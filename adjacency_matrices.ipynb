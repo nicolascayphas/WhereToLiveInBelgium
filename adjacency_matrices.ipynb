{
 "cells": [
  {
   "cell_type": "code",
   "execution_count": 122,
   "metadata": {},
   "outputs": [],
   "source": [
    "import numpy as np\n",
    "from tqdm.notebook import tqdm\n",
    "import pickle"
   ]
  },
  {
   "cell_type": "code",
   "execution_count": 23,
   "metadata": {},
   "outputs": [],
   "source": [
    "import geopandas\n",
    "\n",
    "#path_to_data = geopandas.datasets.get_path(\"stations\")\n",
    "dfS = geopandas.read_file(\"stations.geojson\")\n",
    "dfS = dfS.where(dfS['class_fr']=='Gare').dropna()\n",
    "dfL = geopandas.read_file(\"geosporen.geojson\")"
   ]
  },
  {
   "cell_type": "code",
   "execution_count": 84,
   "metadata": {},
   "outputs": [
    {
     "name": "stdout",
     "output_type": "stream",
     "text": [
      "265 414\n"
     ]
    }
   ],
   "source": [
    "LID = dfL['linecnum'].unique()\n",
    "SID = dfS['symbolicname'].unique()\n",
    "nL, nS = len(LID), len(SID)\n",
    "print(nL, nS)"
   ]
  },
  {
   "cell_type": "code",
   "execution_count": 133,
   "metadata": {},
   "outputs": [],
   "source": [
    "def save_array(A, filename):\n",
    "    file = open(filename, \"wb\")\n",
    "    pickle.dump(A, file)\n",
    "    file.close()\n",
    "    \n",
    "def load_array(filename):\n",
    "    file = open(filename, \"rb\")\n",
    "    return pickle.load(file)"
   ]
  },
  {
   "cell_type": "code",
   "execution_count": 131,
   "metadata": {
    "tags": []
   },
   "outputs": [],
   "source": [
    "LS = np.zeros((nL, nS))\n",
    "\n",
    "for s in dfS.iterrows():\n",
    "    p = s[1].geometry\n",
    "    Lanes = set()\n",
    "    for l in dfL.iterrows():\n",
    "        lane = l[1].geometry\n",
    "        if l[1].geometry != None and p != None and lane.distance(p) < 10e-3: \n",
    "            Lanes.add(l[1].linecnum)\n",
    "            LS[np.where(LID==l[1].linecnum)[0], np.where(SID==s[1].symbolicname)[0]] = 1"
   ]
  },
  {
   "cell_type": "code",
   "execution_count": 141,
   "metadata": {},
   "outputs": [],
   "source": [
    "save_array(LS, \"links_btw_stations.pkl\")"
   ]
  },
  {
   "cell_type": "code",
   "execution_count": 143,
   "metadata": {},
   "outputs": [],
   "source": [
    "LS = load_array(\"links_btw_stations.pkl\")"
   ]
  },
  {
   "cell_type": "code",
   "execution_count": 119,
   "metadata": {},
   "outputs": [],
   "source": [
    "def is_linked(dfL, ID1, ID2, LIDs):\n",
    "    ids1 = LIDs[ID1]\n",
    "    ids2 = LIDs[ID2]\n",
    "    for i in ids1:\n",
    "        for j in ids2:\n",
    "            if dfL.geometry[i] != None and dfL.geometry[j] != None:\n",
    "                if dfL.geometry[i].distance(dfL.geometry[j]) < 10e-3:\n",
    "                    return True\n",
    "    return False"
   ]
  },
  {
   "cell_type": "code",
   "execution_count": 106,
   "metadata": {},
   "outputs": [],
   "source": [
    "LIDs = {}\n",
    "for i in LID:\n",
    "    LIDs[i] = np.where(dfL==i)[0]"
   ]
  },
  {
   "cell_type": "code",
   "execution_count": 120,
   "metadata": {},
   "outputs": [
    {
     "data": {
      "application/vnd.jupyter.widget-view+json": {
       "model_id": "693301fa3d164fd3a64240eaf4d4252f",
       "version_major": 2,
       "version_minor": 0
      },
      "text/plain": [
       "HBox(children=(FloatProgress(value=0.0, max=265.0), HTML(value='')))"
      ]
     },
     "metadata": {},
     "output_type": "display_data"
    },
    {
     "name": "stdout",
     "output_type": "stream",
     "text": [
      "\n"
     ]
    }
   ],
   "source": [
    "# Really slow -> Load the pickle instead\n",
    "L = np.zeros((nL, nL))\n",
    "for i in tqdm(range(nL)):\n",
    "    for j in range(i, nL):\n",
    "        if is_linked(dfL, LID[i], LID[j], LIDs):\n",
    "            L[i,j] = 1\n",
    "            L[j,i] = 1"
   ]
  },
  {
   "cell_type": "code",
   "execution_count": 145,
   "metadata": {},
   "outputs": [],
   "source": [
    "save_array(L, \"linked_lanes.pkl\")"
   ]
  },
  {
   "cell_type": "code",
   "execution_count": 146,
   "metadata": {},
   "outputs": [],
   "source": [
    "L = load_array(\"linked_lanes.pkl\")"
   ]
  },
  {
   "cell_type": "code",
   "execution_count": 173,
   "metadata": {},
   "outputs": [
    {
     "name": "stdout",
     "output_type": "stream",
     "text": [
      "FNWHZ\n"
     ]
    },
    {
     "data": {
      "image/png": "[encoded data removed]",
      "text/plain": [
       "<Figure size 432x288 with 1 Axes>"
      ]
     },
     "metadata": {
      "needs_background": "light"
     },
     "output_type": "display_data"
    }
   ],
   "source": [
    "s = 1\n",
    "print(SID[s])\n",
    "base = dfS.where(dfS.symbolicname==SID[s]).dropna().plot(color='red', markersize=100)\n",
    "for l in range(nL):\n",
    "    if LS[l,s] == 1:\n",
    "        DF = dfL.where(dfL.linecnum==LID[l]).dropna()\n",
    "        DF.plot(ax=base)\n",
    "        for s2 in range(nS):\n",
    "            if LS[l,s2] == 1:\n",
    "                dfS.where(dfS.symbolicname==SID[s2]).dropna().plot(ax = base, color='#AA2222', markersize=50)"
   ]
  },
  {
   "cell_type": "code",
   "execution_count": null,
   "metadata": {},
   "outputs": [],
   "source": []
  }
 ],
 "metadata": {
  "kernelspec": {
   "display_name": "Python 3",
   "language": "python",
   "name": "python3"
  },
  "language_info": {
   "codemirror_mode": {
    "name": "ipython",
    "version": 3
   },
   "file_extension": ".py",
   "mimetype": "text/x-python",
   "name": "python",
   "nbconvert_exporter": "python",
   "pygments_lexer": "ipython3",
   "version": "3.8.3"
  }
 },
 "nbformat": 4,
 "nbformat_minor": 4
}
